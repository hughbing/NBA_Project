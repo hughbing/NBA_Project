{
 "cells": [
  {
   "cell_type": "code",
   "execution_count": 1,
   "metadata": {},
   "outputs": [],
   "source": [
    "import requests\n",
    "import pandas as pd\n",
    "import numpy as np\n",
    "import requests\n",
    "import matplotlib.pyplot as plt\n",
    "import json\n",
    "\n",
    "season_stats_df = pd.read_csv(\"NBA_Stats/Seasons_Stats.csv\")\n",
    "season_stats_df.head()\n",
    "\n",
    "salaries_df = pd.read_csv(\"NBA_Stats/NBA_Salary_History.csv\")\n",
    "salaries_df.head()\n",
    "\n",
    "# Combine the data into a single dataset\n",
    "player_stats_and_salary = pd.merge(season_stats_df, salaries_df, how='inner', on='Player')\n",
    "player_stats_and_salary.head()\n",
    "\n"
   ]
  }
 ],
 "metadata": {
  "kernelspec": {
   "display_name": "Python 3",
   "language": "python",
   "name": "python3"
  },
  "language_info": {
   "codemirror_mode": {
    "name": "ipython",
    "version": 3
   },
   "file_extension": ".py",
   "mimetype": "text/x-python",
   "name": "python",
   "nbconvert_exporter": "python",
   "pygments_lexer": "ipython3",
   "version": "3.7.3"
  }
 },
 "nbformat": 4,
 "nbformat_minor": 4
}
